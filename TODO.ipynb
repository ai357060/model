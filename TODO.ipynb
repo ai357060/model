{
 "cells": [
  {
   "attachments": {},
   "cell_type": "markdown",
   "metadata": {},
   "source": [
    "+detrended - dołożyć do dataframe - jest różnica logarytmów\n",
    "-detrended - rozważyć inne podejście:\n",
    "    - przejść na procenty\n",
    "    + zamiast zawsze robić różnicę między aktualną a historyczną wartością - od wszystkich wartości w oknie odjąć wartość z           początku okna\n",
    "        + to dorobiłem do fourier i sine - choć wartości wyszły inne niż te przed wirusem\n",
    "    - użyć lindear regresion do wyznaczenia trendu(linni) (rolling trend over window) - odjąć wartości waluty od prostej trendu \n",
    "+dodać feature GARCH - w pdfie ARCE05 - punkt 3.2\n",
    "+sprawdzić z użyciem MT4 czy inicatory napisane w python dają dobre wyniki\n",
    "+dodac wskaźnik Weighted Closing Price (WPC)\n",
    "+dodać wskaźniki  \n",
    "    + High, low average periods = 1,2\n",
    "    + Trading day price average(O+H+C+L)/4 - period=1\n",
    "    + uwzględnić Volume\n",
    "    \n",
    "- PNP - wzkaźnik mierzenia sukcesu - jak to włączyć do modelu uczącego się aby uzględniał to zamiast zwykłego procentu trafień?\n",
    "                                    - nie da się tak. PNP można użyć aby porównać modele\n",
    "\n",
    "+ dodać do featurów (jako kolumny binarne 0,1:\n",
    "    +numer miesiąca\n",
    "    +numer dnia tygodnia\n",
    "    +numer dnia miesiąca\n",
    "- dodać sumsum change_pct ale specjalnie napisane (np. przy 10,12,10,15,10 powinnyśmy otrzymać: 0,20,0,50,0 a nie 0,20,20-16,20-16+50,20-16+50-33 czyli 0,20,4,54,21\n",
    "+ slopy na histogramach (różnica między linią indicatora a linią signal)\n",
    "- być może dodać nowy feature do histogramów - czy przecięło zero: 0 nie, 1 tak(z dołu),-1 tak (z góry) - pewnie lepiej byłoby 3 binarne kolumny\n",
    "- dodać nowy magiczny wskaźnić - siła najbliższych poziomów - na kartce.\n",
    "- dodać wartości historyczne jako nowe kolumny, Daily, weekly, monthly\n",
    "- bibliteki i kursy FastAI: https://www.fast.ai/\n",
    "+ dla GARCH i ARIMA - dane na których się uczy powinny chyba być po kolei (go to jest time series method)\n",
    "    - uczenie garch arima, jest w ramach feature selection a tam jest po kolei.\n",
    "- poprawić błąd w MLP - jest na stałe ([10,10]\n",
    "- uwzględnić Volume\n",
    "- uwzględnić więcej parametrów w MLP - learning rate itp.\n",
    "+ zrobiłem porównanie feature_collection pre i post. Post jest minimalne lepsze na tym jednem przykładzie (pca15SVC):zmieniłem data split na shuffle=False, dostosowałem wielkość datasetu w obu przypadkach. Zakomentowałem replace NaN na zera w fourier i sine\n",
    "       Pytanie czy robimy\n",
    "          - zapuszczenie całości na azure pre z nowym datasplitem\n",
    "          - zapuszczenie całości na azure post z nowym splitem i nowym datasetem\n",
    "          - są nadal różnice między datasetami, bo w wersji pre są nulle na fourier tam gdzie w post nie na nulli\n",
    "- dorzucić dodatkową miarę - loss (tak jak jest w fastai)\n",
    "- można podstroić parametry feature selection np. dla SVC - kernel, gamma, C \n",
    "\n",
    "Pomysł:\n",
    "- jak wybrać (zdefiniować) podzbiór obserwacji dla którego wyniki są dobre(lepsze)\n",
    "\n",
    "Eksperymenty:\n",
    "hh_n1 higher high next day\n",
    "loc - localnie\n",
    "az - azure notebooks\n",
    "hh_n1_post_loc - masterframe przygotowany na podstawie danych źródłowych z ducasopy z tego samego okresu co pre, są pewne różnice: pewnych dni nie ma, niektóre kursy się róźnią, data split obserwacje losowo\n",
    "hh_n1_pre_az - to samo co wyżej\n",
    "hh_n1_post_az - to samo co wyżej\n",
    "hh_n1_post_az_test - masterframe przygotowany na podstawie danych źródłowych, które powstały z masterframa_pre - aby mieć te same dni oraz te same kursy, masterframe przycięty do 3600, data split po kolei, fourier log_close-log_close\n",
    "hh_n1_pre_az_test - masterframe przycięty do 3600 obserwacji, data split obserwacje po kolei\n",
    "hh_n1_post_az_test2 - to samo co test ale fourier: close - close\n",
    "\n",
    "Wnioski z eksperymentów\n",
    "- na masterframe przed - split random gorszy niż po kolei"
   ]
  }
 ],
 "metadata": {
  "kernelspec": {
   "display_name": "Python 3",
   "language": "python",
   "name": "python3"
  },
  "language_info": {
   "codemirror_mode": {
    "name": "ipython",
    "version": 3
   },
   "file_extension": ".py",
   "mimetype": "text/x-python",
   "name": "python",
   "nbconvert_exporter": "python",
   "pygments_lexer": "ipython3",
   "version": "3.7.3"
  }
 },
 "nbformat": 4,
 "nbformat_minor": 2
}
