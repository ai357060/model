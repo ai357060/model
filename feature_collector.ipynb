{
 "cells": [
  {
   "cell_type": "code",
   "execution_count": 1,
   "metadata": {},
   "outputs": [],
   "source": [
    "import os\n",
    "import sys\n",
    "module_path = os.path.abspath(os.path.join('..'))\n",
    "if module_path not in sys.path:\n",
    "    sys.path.append(module_path)"
   ]
  },
  {
   "cell_type": "code",
   "execution_count": 2,
   "metadata": {},
   "outputs": [],
   "source": [
    "import pandas as pd\n",
    "import numpy as np\n",
    "import datetime as dt\n",
    "import importlib\n",
    "import feature_functions\n",
    "from feature_functions import *"
   ]
  },
  {
   "cell_type": "code",
   "execution_count": 3,
   "metadata": {},
   "outputs": [],
   "source": [
    "importlib.reload(feature_functions)\n",
    "from feature_functions import *"
   ]
  },
  {
   "cell_type": "code",
   "execution_count": 4,
   "metadata": {},
   "outputs": [],
   "source": [
    "prices = loaddata_nodateindex('UJ_Candlestick_1_D_BID_04.05.2003-25.04.2019.csv')\n",
    "# prices = loaddata_nodateindex('input.csv')#testowo"
   ]
  },
  {
   "cell_type": "code",
   "execution_count": 5,
   "metadata": {},
   "outputs": [],
   "source": [
    "#prices = loaddata('USDJPY1440.csv')"
   ]
  },
  {
   "cell_type": "code",
   "execution_count": 6,
   "metadata": {},
   "outputs": [],
   "source": [
    "# prices = prices[-24:]"
   ]
  },
  {
   "cell_type": "code",
   "execution_count": 7,
   "metadata": {},
   "outputs": [],
   "source": [
    "# prices = prices[:300]"
   ]
  },
  {
   "cell_type": "code",
   "execution_count": 8,
   "metadata": {},
   "outputs": [],
   "source": [
    "momentumKey   = [3,4,5,8,9,10] #price bias: close, open; 'open','close','open_pct','close_pct'\n",
    "stochasticKey = [3,4,5,8,9,10] # 'C','H','L','K','D','HistKD'; K_slopes,HistKD_slope\n",
    "williamsKey   = [6,7,8,9,10] # 'C','H','L','R'\n",
    "procKey       = [2,12,13,14,15] #'close_pct'\n",
    "wadlKey       = [2,15]  #w oryginale definicji funkcji jest 2; czyli bierze pod uwagę tylko poprzeni bar, \n",
    "                        #według dokumentu podali 15                        #price bias: wad   \n",
    "                        # 'wad', 'wad_slopes'\n",
    "adoscKey      = [1,2,3,4,5] #'C','H','L','ADL','ADL3','ADL10','Chaikin', ADL_slopy,Chaikin_slopy\n",
    "macdKey       = [15] #price bias: MACD, SigMACD, histMACD; MACD_slopy,histMACD_slopy\n",
    "cciKey        = [15] #'tp','tpmean','tpstd','cci', cci_slopy\n",
    "bollingerKey  = [15] #price bias: mid, upper, lower ,histmid,histupper,histlower,slopy:histmid,histupper,histlower\n",
    "heikenashiKey = [2,15] #price bias: HAopen, HAhigh, HAlow, HAclose; 4 slopy \n",
    "paverageKey   = [2] #price bias: avg_open,avg_high, avg_low, avg_close; avg_close_slopy\n",
    "slopeKey      = [3,4,5,10,20,30] # slopy na close, high, low\n",
    "fourierKey    = [10,20,30]\n",
    "sineKey       = [5,6]\n",
    "garchKey      = [15,50,150]\n",
    "atrKey        = [14]\n",
    "histD1Key     = [5]\n",
    "histW1Key     = [5]\n",
    "histM1Key     = [5]\n",
    "\n",
    "#keyList = [momentumKey,stochasticKey,williamsKey,procKey,wadlKey,adoscKey,macdKey,cciKey,bollingerKey,heikenashiKey,\n",
    "#           paverageKey,slopeKey,fourierKey,sineKey,garchKey,atrKey]\n",
    "dictList = []\n",
    "colFeat = []\n",
    "keyList = []\n",
    "debug = True"
   ]
  },
  {
   "cell_type": "code",
   "execution_count": 9,
   "metadata": {},
   "outputs": [
    {
     "name": "stdout",
     "output_type": "stream",
     "text": [
      "1\n",
      "2\n",
      "3\n",
      "4\n",
      "5\n"
     ]
    },
    {
     "ename": "KeyboardInterrupt",
     "evalue": "",
     "output_type": "error",
     "traceback": [
      "\u001b[1;31m---------------------------------------------------------------------------\u001b[0m",
      "\u001b[1;31mKeyboardInterrupt\u001b[0m                         Traceback (most recent call last)",
      "\u001b[1;32m<ipython-input-9-53a8eac03fe3>\u001b[0m in \u001b[0;36m<module>\u001b[1;34m\u001b[0m\n\u001b[0;32m      9\u001b[0m \u001b[0mwadlDict\u001b[0m       \u001b[1;33m=\u001b[0m \u001b[0mwadl\u001b[0m\u001b[1;33m(\u001b[0m\u001b[0mprices\u001b[0m\u001b[1;33m,\u001b[0m \u001b[0mwadlKey\u001b[0m\u001b[1;33m)\u001b[0m\u001b[1;33m\u001b[0m\u001b[1;33m\u001b[0m\u001b[0m\n\u001b[0;32m     10\u001b[0m \u001b[1;32mif\u001b[0m \u001b[0mdebug\u001b[0m \u001b[1;33m==\u001b[0m \u001b[1;32mTrue\u001b[0m\u001b[1;33m:\u001b[0m \u001b[0mprint\u001b[0m\u001b[1;33m(\u001b[0m\u001b[1;34m'5'\u001b[0m\u001b[1;33m)\u001b[0m\u001b[1;33m\u001b[0m\u001b[1;33m\u001b[0m\u001b[0m\n\u001b[1;32m---> 11\u001b[1;33m \u001b[0madoscDict\u001b[0m      \u001b[1;33m=\u001b[0m \u001b[0madosc\u001b[0m\u001b[1;33m(\u001b[0m\u001b[0mprices\u001b[0m\u001b[1;33m,\u001b[0m \u001b[0madoscKey\u001b[0m\u001b[1;33m)\u001b[0m\u001b[1;33m\u001b[0m\u001b[1;33m\u001b[0m\u001b[0m\n\u001b[0m\u001b[0;32m     12\u001b[0m \u001b[1;32mif\u001b[0m \u001b[0mdebug\u001b[0m \u001b[1;33m==\u001b[0m \u001b[1;32mTrue\u001b[0m\u001b[1;33m:\u001b[0m \u001b[0mprint\u001b[0m\u001b[1;33m(\u001b[0m\u001b[1;34m'6'\u001b[0m\u001b[1;33m)\u001b[0m\u001b[1;33m\u001b[0m\u001b[1;33m\u001b[0m\u001b[0m\n\u001b[0;32m     13\u001b[0m \u001b[0mmacdDict\u001b[0m       \u001b[1;33m=\u001b[0m \u001b[0mmacd\u001b[0m\u001b[1;33m(\u001b[0m\u001b[0mprices\u001b[0m\u001b[1;33m,\u001b[0m \u001b[0mmacdKey\u001b[0m\u001b[1;33m+\u001b[0m\u001b[1;33m[\u001b[0m\u001b[1;36m30\u001b[0m\u001b[1;33m,\u001b[0m\u001b[1;36m9\u001b[0m\u001b[1;33m]\u001b[0m\u001b[1;33m)\u001b[0m\u001b[1;33m\u001b[0m\u001b[1;33m\u001b[0m\u001b[0m\n",
      "\u001b[1;32m~\\notebooks\\wm\\feature_functions.py\u001b[0m in \u001b[0;36madosc\u001b[1;34m(prices, periods)\u001b[0m\n\u001b[0;32m    252\u001b[0m         \u001b[1;31m## slopes\u001b[0m\u001b[1;33m\u001b[0m\u001b[1;33m\u001b[0m\u001b[1;33m\u001b[0m\u001b[0m\n\u001b[0;32m    253\u001b[0m         \u001b[0mslopecolumnlist\u001b[0m \u001b[1;33m=\u001b[0m \u001b[1;33m[\u001b[0m\u001b[1;34m'ADL'\u001b[0m\u001b[1;33m,\u001b[0m\u001b[1;34m'Chaikin'\u001b[0m\u001b[1;33m]\u001b[0m\u001b[1;33m\u001b[0m\u001b[1;33m\u001b[0m\u001b[0m\n\u001b[1;32m--> 254\u001b[1;33m         \u001b[0msl\u001b[0m \u001b[1;33m=\u001b[0m \u001b[0mslopecolumns\u001b[0m\u001b[1;33m(\u001b[0m\u001b[0madosc\u001b[0m\u001b[1;33m,\u001b[0m\u001b[0mslopeperiods\u001b[0m\u001b[1;33m,\u001b[0m\u001b[0mslopecolumnlist\u001b[0m\u001b[1;33m)\u001b[0m\u001b[1;33m\u001b[0m\u001b[1;33m\u001b[0m\u001b[0m\n\u001b[0m\u001b[0;32m    255\u001b[0m         \u001b[1;32mfor\u001b[0m \u001b[0mkk\u001b[0m \u001b[1;32min\u001b[0m \u001b[0mrange\u001b[0m\u001b[1;33m(\u001b[0m\u001b[1;36m0\u001b[0m\u001b[1;33m,\u001b[0m\u001b[0mlen\u001b[0m\u001b[1;33m(\u001b[0m\u001b[0mslopecolumnlist\u001b[0m\u001b[1;33m)\u001b[0m\u001b[1;33m)\u001b[0m\u001b[1;33m:\u001b[0m\u001b[1;33m\u001b[0m\u001b[1;33m\u001b[0m\u001b[0m\n\u001b[0;32m    256\u001b[0m             \u001b[1;32mfor\u001b[0m \u001b[0mss\u001b[0m \u001b[1;32min\u001b[0m \u001b[0mrange\u001b[0m\u001b[1;33m(\u001b[0m\u001b[1;36m0\u001b[0m\u001b[1;33m,\u001b[0m\u001b[0mlen\u001b[0m\u001b[1;33m(\u001b[0m\u001b[0mslopeperiods\u001b[0m\u001b[1;33m)\u001b[0m\u001b[1;33m)\u001b[0m\u001b[1;33m:\u001b[0m\u001b[1;33m\u001b[0m\u001b[1;33m\u001b[0m\u001b[0m\n",
      "\u001b[1;32m~\\notebooks\\wm\\feature_functions.py\u001b[0m in \u001b[0;36mslopecolumns\u001b[1;34m(xprices, periods, scolumns)\u001b[0m\n\u001b[0;32m    563\u001b[0m                 \u001b[0mx\u001b[0m \u001b[1;33m=\u001b[0m \u001b[0mnp\u001b[0m\u001b[1;33m.\u001b[0m\u001b[0marange\u001b[0m\u001b[1;33m(\u001b[0m\u001b[1;36m0\u001b[0m\u001b[1;33m,\u001b[0m\u001b[0mperiods\u001b[0m\u001b[1;33m[\u001b[0m\u001b[0mi\u001b[0m\u001b[1;33m]\u001b[0m\u001b[1;33m)\u001b[0m\u001b[1;33m\u001b[0m\u001b[1;33m\u001b[0m\u001b[0m\n\u001b[0;32m    564\u001b[0m                 \u001b[0myh\u001b[0m \u001b[1;33m=\u001b[0m \u001b[0mprices\u001b[0m\u001b[1;33m[\u001b[0m\u001b[0mscolumns\u001b[0m\u001b[1;33m[\u001b[0m\u001b[0mk\u001b[0m\u001b[1;33m]\u001b[0m\u001b[1;33m]\u001b[0m\u001b[1;33m.\u001b[0m\u001b[0miloc\u001b[0m\u001b[1;33m[\u001b[0m\u001b[0mj\u001b[0m\u001b[1;33m-\u001b[0m\u001b[0mperiods\u001b[0m\u001b[1;33m[\u001b[0m\u001b[0mi\u001b[0m\u001b[1;33m]\u001b[0m\u001b[1;33m+\u001b[0m\u001b[1;36m1\u001b[0m\u001b[1;33m:\u001b[0m\u001b[0mj\u001b[0m\u001b[1;33m+\u001b[0m\u001b[1;36m1\u001b[0m\u001b[1;33m]\u001b[0m\u001b[1;33m.\u001b[0m\u001b[0mvalues\u001b[0m\u001b[1;33m\u001b[0m\u001b[1;33m\u001b[0m\u001b[0m\n\u001b[1;32m--> 565\u001b[1;33m                 \u001b[0mresh\u001b[0m \u001b[1;33m=\u001b[0m \u001b[0mstats\u001b[0m\u001b[1;33m.\u001b[0m\u001b[0mlinregress\u001b[0m\u001b[1;33m(\u001b[0m\u001b[0mx\u001b[0m\u001b[1;33m,\u001b[0m\u001b[0myh\u001b[0m\u001b[1;33m)\u001b[0m\u001b[1;33m\u001b[0m\u001b[1;33m\u001b[0m\u001b[0m\n\u001b[0m\u001b[0;32m    566\u001b[0m                 \u001b[0mslopeh\u001b[0m \u001b[1;33m=\u001b[0m \u001b[0mresh\u001b[0m\u001b[1;33m.\u001b[0m\u001b[0mslope\u001b[0m\u001b[1;33m\u001b[0m\u001b[1;33m\u001b[0m\u001b[0m\n\u001b[0;32m    567\u001b[0m \u001b[1;33m\u001b[0m\u001b[0m\n",
      "\u001b[1;32mC:\\Anaconda3\\lib\\site-packages\\scipy\\stats\\_stats_mstats_common.py\u001b[0m in \u001b[0;36mlinregress\u001b[1;34m(x, y)\u001b[0m\n\u001b[0;32m    100\u001b[0m \u001b[1;33m\u001b[0m\u001b[0m\n\u001b[0;32m    101\u001b[0m     \u001b[1;31m# average sum of squares:\u001b[0m\u001b[1;33m\u001b[0m\u001b[1;33m\u001b[0m\u001b[1;33m\u001b[0m\u001b[0m\n\u001b[1;32m--> 102\u001b[1;33m     \u001b[0mssxm\u001b[0m\u001b[1;33m,\u001b[0m \u001b[0mssxym\u001b[0m\u001b[1;33m,\u001b[0m \u001b[0mssyxm\u001b[0m\u001b[1;33m,\u001b[0m \u001b[0mssym\u001b[0m \u001b[1;33m=\u001b[0m \u001b[0mnp\u001b[0m\u001b[1;33m.\u001b[0m\u001b[0mcov\u001b[0m\u001b[1;33m(\u001b[0m\u001b[0mx\u001b[0m\u001b[1;33m,\u001b[0m \u001b[0my\u001b[0m\u001b[1;33m,\u001b[0m \u001b[0mbias\u001b[0m\u001b[1;33m=\u001b[0m\u001b[1;36m1\u001b[0m\u001b[1;33m)\u001b[0m\u001b[1;33m.\u001b[0m\u001b[0mflat\u001b[0m\u001b[1;33m\u001b[0m\u001b[1;33m\u001b[0m\u001b[0m\n\u001b[0m\u001b[0;32m    103\u001b[0m     \u001b[0mr_num\u001b[0m \u001b[1;33m=\u001b[0m \u001b[0mssxym\u001b[0m\u001b[1;33m\u001b[0m\u001b[1;33m\u001b[0m\u001b[0m\n\u001b[0;32m    104\u001b[0m     \u001b[0mr_den\u001b[0m \u001b[1;33m=\u001b[0m \u001b[0mnp\u001b[0m\u001b[1;33m.\u001b[0m\u001b[0msqrt\u001b[0m\u001b[1;33m(\u001b[0m\u001b[0mssxm\u001b[0m \u001b[1;33m*\u001b[0m \u001b[0mssym\u001b[0m\u001b[1;33m)\u001b[0m\u001b[1;33m\u001b[0m\u001b[1;33m\u001b[0m\u001b[0m\n",
      "\u001b[1;32mC:\\Anaconda3\\lib\\site-packages\\numpy\\lib\\function_base.py\u001b[0m in \u001b[0;36mcov\u001b[1;34m(m, y, rowvar, bias, ddof, fweights, aweights)\u001b[0m\n\u001b[0;32m   2448\u001b[0m     \u001b[1;32melse\u001b[0m\u001b[1;33m:\u001b[0m\u001b[1;33m\u001b[0m\u001b[1;33m\u001b[0m\u001b[0m\n\u001b[0;32m   2449\u001b[0m         \u001b[0mX_T\u001b[0m \u001b[1;33m=\u001b[0m \u001b[1;33m(\u001b[0m\u001b[0mX\u001b[0m\u001b[1;33m*\u001b[0m\u001b[0mw\u001b[0m\u001b[1;33m)\u001b[0m\u001b[1;33m.\u001b[0m\u001b[0mT\u001b[0m\u001b[1;33m\u001b[0m\u001b[1;33m\u001b[0m\u001b[0m\n\u001b[1;32m-> 2450\u001b[1;33m     \u001b[0mc\u001b[0m \u001b[1;33m=\u001b[0m \u001b[0mdot\u001b[0m\u001b[1;33m(\u001b[0m\u001b[0mX\u001b[0m\u001b[1;33m,\u001b[0m \u001b[0mX_T\u001b[0m\u001b[1;33m.\u001b[0m\u001b[0mconj\u001b[0m\u001b[1;33m(\u001b[0m\u001b[1;33m)\u001b[0m\u001b[1;33m)\u001b[0m\u001b[1;33m\u001b[0m\u001b[1;33m\u001b[0m\u001b[0m\n\u001b[0m\u001b[0;32m   2451\u001b[0m     \u001b[0mc\u001b[0m \u001b[1;33m*=\u001b[0m \u001b[0mnp\u001b[0m\u001b[1;33m.\u001b[0m\u001b[0mtrue_divide\u001b[0m\u001b[1;33m(\u001b[0m\u001b[1;36m1\u001b[0m\u001b[1;33m,\u001b[0m \u001b[0mfact\u001b[0m\u001b[1;33m)\u001b[0m\u001b[1;33m\u001b[0m\u001b[1;33m\u001b[0m\u001b[0m\n\u001b[0;32m   2452\u001b[0m     \u001b[1;32mreturn\u001b[0m \u001b[0mc\u001b[0m\u001b[1;33m.\u001b[0m\u001b[0msqueeze\u001b[0m\u001b[1;33m(\u001b[0m\u001b[1;33m)\u001b[0m\u001b[1;33m\u001b[0m\u001b[1;33m\u001b[0m\u001b[0m\n",
      "\u001b[1;31mKeyboardInterrupt\u001b[0m: "
     ]
    }
   ],
   "source": [
    "momentumDict   = momentum(prices, momentumKey)\n",
    "if debug == True: print('1')\n",
    "stochasticDict = stochastic(prices, stochasticKey)\n",
    "if debug == True: print('2')\n",
    "williamsDict   = williams(prices, williamsKey)\n",
    "if debug == True: print('3')\n",
    "procDict       = proc(prices, procKey)\n",
    "if debug == True: print('4')\n",
    "wadlDict       = wadl(prices, wadlKey)\n",
    "if debug == True: print('5')\n",
    "adoscDict      = adosc(prices, adoscKey)\n",
    "if debug == True: print('6')\n",
    "macdDict       = macd(prices, macdKey+[30,9])\n",
    "if debug == True: print('7')\n",
    "cciDict        = cci(prices, cciKey)\n",
    "if debug == True: print('8')\n",
    "bollingerDict  = bollinger(prices, bollingerKey)\n",
    "if debug == True: print('9')\n",
    "heikenashiDict = heikenashi(prices, heikenashiKey)\n",
    "if debug == True: print('11')\n",
    "paverageDict   = paverages(prices, paverageKey)\n",
    "if debug == True: print('12')\n",
    "slopeDict      = slopes(prices, slopeKey)\n",
    "if debug == True: print('13')\n",
    "fourierDict    = fourier(prices, fourierKey)\n",
    "if debug == True: print('14')\n",
    "sineDict       = sine(prices, sineKey)\n",
    "if debug == True: print('15')   \n",
    "garchDict      = TSA(prices, garchKey,[3,1,0])\n",
    "if debug == True: print('16')\n",
    "atrDict        = atr(prices, atrKey)\n",
    "if debug == True: print('17')    \n",
    "histD1Dict     = historyD1(prices, histD1Key)\n",
    "if debug == True: print('18')    \n",
    "histW1Dict     = historyW1(prices, histW1Key)\n",
    "if debug == True: print('19')\n",
    "histM1Dict     = historyM1(prices, histM1Key)\n",
    "if debug == True: print('20')    "
   ]
  },
  {
   "cell_type": "code",
   "execution_count": null,
   "metadata": {},
   "outputs": [],
   "source": [
    "# importlib.reload(feature_functions)\n",
    "# from feature_functions import *\n",
    "\n",
    "# fourierDict    = fourier(prices, fourierKey)\n",
    "# sineDict       = sine(prices, sineKey)\n"
   ]
  },
  {
   "cell_type": "code",
   "execution_count": null,
   "metadata": {},
   "outputs": [],
   "source": [
    "dictList = []\n",
    "colFeat = []\n",
    "keyList = []\n",
    "dictList.append(momentumDict.df); colFeat.append('momentum'); keyList.append(momentumKey)\n",
    "dictList.append(stochasticDict.df); colFeat.append('stochastic'); keyList.append(stochasticKey)\n",
    "dictList.append(williamsDict.df); colFeat.append('williams'); keyList.append(williamsKey)\n",
    "dictList.append(procDict.df); colFeat.append('proc'); keyList.append(procKey)\n",
    "dictList.append(wadlDict.df); colFeat.append('wadl'); keyList.append(wadlKey)\n",
    "dictList.append(adoscDict.df); colFeat.append('adosc'); keyList.append(adoscKey)\n",
    "dictList.append(macdDict.df); colFeat.append('macd'); keyList.append(macdKey)\n",
    "dictList.append(cciDict.df); colFeat.append('cci'); keyList.append(cciKey)\n",
    "dictList.append(bollingerDict.df); colFeat.append('bollinger'); keyList.append(bollingerKey)\n",
    "dictList.append(heikenashiDict.df); colFeat.append('heikenashi'); keyList.append(heikenashiKey)\n",
    "dictList.append(paverageDict.df); colFeat.append('paverage'); keyList.append(paverageKey)\n",
    "dictList.append(slopeDict.df); colFeat.append('slope'); keyList.append(slopeKey)\n",
    "dictList.append(fourierDict.df); colFeat.append('fourier'); keyList.append(fourierKey)\n",
    "dictList.append(sineDict.df); colFeat.append('sine'); keyList.append(sineKey)\n",
    "dictList.append(garchDict.df); colFeat.append('garch'); keyList.append(garchKey)\n",
    "dictList.append(atrDict.df); colFeat.append('atr'); keyList.append(atrKey)\n",
    "dictList.append(histD1Dict.df); colFeat.append('hD1'); keyList.append(histD1Key)\n",
    "dictList.append(histW1Dict.df); colFeat.append('hW1'); keyList.append(histW1Key)\n",
    "dictList.append(histM1Dict.df); colFeat.append('hM1'); keyList.append(histM1Key)"
   ]
  },
  {
   "cell_type": "code",
   "execution_count": null,
   "metadata": {},
   "outputs": [],
   "source": [
    "#dictList = [momentumDict.df,stochasticDict.df,williamsDict.df,procDict.df,wadlDict.df,adoscDict.df,macdDict.df,cciDict.df,bollingerDict.df,heikenashiDict.df,\n",
    "#           paverageDict.df,slopeDict.df,fourierDict.df,sineDict.df,garchDict.df,atrDict.df]"
   ]
  },
  {
   "cell_type": "code",
   "execution_count": null,
   "metadata": {},
   "outputs": [],
   "source": [
    "#colFeat = ['momentum','stochastic','williams','proc','wadl','adosc','macd','cci','bollinger','heikenashi','paverage','slope','fourier','sine','garch','atr']"
   ]
  },
  {
   "cell_type": "code",
   "execution_count": null,
   "metadata": {},
   "outputs": [],
   "source": [
    "prices.dropna(inplace=True)\n",
    "masterFrame = pd.DataFrame(index=prices.index)\n",
    "masterFrame[['fulldate','year','month','day','open','high','low','close','volume']] = prices[['fulldate','year','month','day','open','high','low','close','volume']]\n",
    "masterFrame['weekday'] = prices.fulldate.apply(lambda x: x.isoweekday())\n",
    "masterFrame = pd.get_dummies(masterFrame, prefix='month_', columns=['month'])    \n",
    "masterFrame = pd.get_dummies(masterFrame, prefix='day_', columns=['day'])    \n",
    "masterFrame = pd.get_dummies(masterFrame, prefix='weekday_', columns=['weekday'])    "
   ]
  },
  {
   "cell_type": "code",
   "execution_count": null,
   "metadata": {},
   "outputs": [],
   "source": [
    "for i in range(0,len(dictList)):#iteracja po funkcjach\n",
    "    for j in keyList[i]: #iteracja po okresach\n",
    "        for k in list(dictList[i][j]): #iteracja po kolumnach danej funkcji w okresie\n",
    "            colID = colFeat[i] + str(j) + k\n",
    "            masterFrame[colID] = dictList[i][j][k]"
   ]
  },
  {
   "cell_type": "code",
   "execution_count": null,
   "metadata": {},
   "outputs": [],
   "source": [
    "masterFrame.to_csv(sep=';',path_or_buf='../Data/mf_UJ1440_v11.csv',date_format=\"%Y-%m-%d\",index = False,na_rep='')"
   ]
  },
  {
   "cell_type": "code",
   "execution_count": null,
   "metadata": {},
   "outputs": [],
   "source": [
    "fourierDict.df[10].tail()"
   ]
  },
  {
   "cell_type": "code",
   "execution_count": null,
   "metadata": {},
   "outputs": [],
   "source": []
  }
 ],
 "metadata": {
  "kernelspec": {
   "display_name": "Python 3",
   "language": "python",
   "name": "python3"
  },
  "language_info": {
   "codemirror_mode": {
    "name": "ipython",
    "version": 3
   },
   "file_extension": ".py",
   "mimetype": "text/x-python",
   "name": "python",
   "nbconvert_exporter": "python",
   "pygments_lexer": "ipython3",
   "version": "3.7.3"
  }
 },
 "nbformat": 4,
 "nbformat_minor": 2
}
