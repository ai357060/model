{
 "cells": [
  {
   "cell_type": "code",
   "execution_count": 1,
   "metadata": {},
   "outputs": [],
   "source": [
    "import os\n",
    "import sys\n",
    "module_path = os.path.abspath(os.path.join('..'))\n",
    "if module_path not in sys.path:\n",
    "    sys.path.append(module_path)"
   ]
  },
  {
   "cell_type": "code",
   "execution_count": 2,
   "metadata": {},
   "outputs": [],
   "source": [
    "import pandas as pd\n",
    "import numpy as np\n",
    "import datetime as dt\n",
    "import importlib\n",
    "import feature_functions\n",
    "from feature_functions import *"
   ]
  },
  {
   "cell_type": "code",
   "execution_count": 3,
   "metadata": {},
   "outputs": [],
   "source": [
    "importlib.reload(feature_functions)\n",
    "from feature_functions import *"
   ]
  },
  {
   "cell_type": "code",
   "execution_count": 4,
   "metadata": {},
   "outputs": [],
   "source": [
    "# prices = loaddata_nodateindex('UJ_Candlestick_1_D_BID_04.05.2003-25.04.2019.csv')\n",
    "prices = loaddata_nodateindex('input.csv')#testowo"
   ]
  },
  {
   "cell_type": "code",
   "execution_count": 9,
   "metadata": {},
   "outputs": [],
   "source": [
    "#prices = loaddata('USDJPY1440.csv')"
   ]
  },
  {
   "cell_type": "code",
   "execution_count": 41,
   "metadata": {},
   "outputs": [],
   "source": [
    "prices = prices[-24:]"
   ]
  },
  {
   "cell_type": "code",
   "execution_count": 5,
   "metadata": {},
   "outputs": [],
   "source": [
    "prices = prices[:300]"
   ]
  },
  {
   "cell_type": "code",
   "execution_count": 5,
   "metadata": {},
   "outputs": [],
   "source": [
    "momentumKey   = [3,4,5,8,9,10] #price bias: close, open; 'open','close','open_pct','close_pct'\n",
    "stochasticKey = [3,4,5,8,9,10] # 'C','H','L','K','D','HistKD'; K_slopes,HistKD_slope\n",
    "williamsKey   = [6,7,8,9,10] # 'C','H','L','R'\n",
    "procKey       = [2,12,13,14,15] #'close_pct'\n",
    "wadlKey       = [2,15]  #w oryginale definicji funkcji jest 2; czyli bierze pod uwagę tylko poprzeni bar, \n",
    "                        #według dokumentu podali 15                        #price bias: wad   \n",
    "                        # 'wad', 'wad_slopes'\n",
    "adoscKey      = [1,2,3,4,5] #'C','H','L','ADL','ADL3','ADL10','Chaikin', ADL_slopy,Chaikin_slopy\n",
    "macdKey       = [15] #price bias: MACD, SigMACD, histMACD; MACD_slopy,histMACD_slopy\n",
    "cciKey        = [15] #'tp','tpmean','tpstd','cci', cci_slopy\n",
    "bollingerKey  = [15] #price bias: mid, upper, lower ,histmid,histupper,histlower,slopy:histmid,histupper,histlower\n",
    "heikenashiKey = [2,15] #price bias: HAopen, HAhigh, HAlow, HAclose; 4 slopy \n",
    "paverageKey   = [2] #price bias: avg_open,avg_high, avg_low, avg_close; avg_close_slopy\n",
    "slopeKey      = [3,4,5,10,20,30] # slopy na close, high, low\n",
    "fourierKey    = [10,20,30]\n",
    "sineKey       = [5,6]\n",
    "garchKey      = [15,50,150]\n",
    "atrKey        = [14]\n",
    "#keyList = [momentumKey,stochasticKey,williamsKey,procKey,wadlKey,adoscKey,macdKey,cciKey,bollingerKey,heikenashiKey,\n",
    "#           paverageKey,slopeKey,fourierKey,sineKey,garchKey,atrKey]\n",
    "dictList = []\n",
    "colFeat = []\n",
    "keyList = []\n",
    "debug = True"
   ]
  },
  {
   "cell_type": "code",
   "execution_count": null,
   "metadata": {},
   "outputs": [
    {
     "name": "stdout",
     "output_type": "stream",
     "text": [
      "1\n"
     ]
    }
   ],
   "source": [
    "momentumDict   = momentum(prices, momentumKey)\n",
    "if debug == True: print('1')\n",
    "stochasticDict = stochastic(prices, stochasticKey)\n",
    "if debug == True: print('2')\n",
    "williamsDict   = williams(prices, williamsKey)\n",
    "if debug == True: print('3')\n",
    "procDict       = proc(prices, procKey)\n",
    "if debug == True: print('4')\n",
    "wadlDict       = wadl(prices, wadlKey)\n",
    "if debug == True: print('5')\n",
    "adoscDict      = adosc(prices, adoscKey)\n",
    "if debug == True: print('6')\n",
    "macdDict       = macd(prices, macdKey+[30,9])\n",
    "if debug == True: print('7')\n",
    "cciDict        = cci(prices, cciKey)\n",
    "if debug == True: print('8')\n",
    "bollingerDict  = bollinger(prices, bollingerKey)\n",
    "if debug == True: print('9')\n",
    "heikenashiDict = heikenashi(prices, heikenashiKey)\n",
    "if debug == True: print('11')\n",
    "paverageDict   = paverages(prices, paverageKey)\n",
    "if debug == True: print('12')\n",
    "slopeDict      = slopes(prices, slopeKey)\n",
    "if debug == True: print('13')\n",
    "fourierDict    = fourier(prices, fourierKey)\n",
    "if debug == True: print('14')\n",
    "sineDict       = sine(prices, sineKey)\n",
    "if debug == True: print('15')   \n",
    "garchDict      = TSA(prices, garchKey,[3,1,0])\n",
    "if debug == True: print('16')\n",
    "atrDict        = atr(prices, atrKey)\n",
    "if debug == True: print('17')    "
   ]
  },
  {
   "cell_type": "code",
   "execution_count": 52,
   "metadata": {},
   "outputs": [],
   "source": [
    "importlib.reload(feature_functions)\n",
    "from feature_functions import *\n",
    "\n",
    "fourierDict    = fourier(prices, fourierKey)\n",
    "sineDict       = sine(prices, sineKey)\n"
   ]
  },
  {
   "cell_type": "code",
   "execution_count": 23,
   "metadata": {},
   "outputs": [],
   "source": [
    "dictList = []\n",
    "colFeat = []\n",
    "keyList = []\n",
    "dictList.append(momentumDict.df); colFeat.append('momentum'); keyList.append(momentumKey)\n",
    "dictList.append(stochasticDict.df); colFeat.append('stochastic'); keyList.append(stochasticKey)\n",
    "dictList.append(williamsDict.df); colFeat.append('williams'); keyList.append(williamsKey)\n",
    "dictList.append(procDict.df); colFeat.append('proc'); keyList.append(procKey)\n",
    "dictList.append(wadlDict.df); colFeat.append('wadl'); keyList.append(wadlKey)\n",
    "dictList.append(adoscDict.df); colFeat.append('adosc'); keyList.append(adoscKey)\n",
    "dictList.append(macdDict.df); colFeat.append('macd'); keyList.append(macdKey)\n",
    "dictList.append(cciDict.df); colFeat.append('cci'); keyList.append(cciKey)\n",
    "dictList.append(bollingerDict.df); colFeat.append('bollinger'); keyList.append(bollingerKey)\n",
    "dictList.append(heikenashiDict.df); colFeat.append('heikenashi'); keyList.append(heikenashiKey)\n",
    "dictList.append(paverageDict.df); colFeat.append('paverage'); keyList.append(paverageKey)\n",
    "dictList.append(slopeDict.df); colFeat.append('slope'); keyList.append(slopeKey)\n",
    "dictList.append(fourierDict.df); colFeat.append('fourier'); keyList.append(fourierKey)\n",
    "dictList.append(sineDict.df); colFeat.append('sine'); keyList.append(sineKey)\n",
    "dictList.append(garchDict.df); colFeat.append('garch'); keyList.append(garchKey)\n",
    "dictList.append(atrDict.df); colFeat.append('atr'); keyList.append(atrKey)"
   ]
  },
  {
   "cell_type": "code",
   "execution_count": 24,
   "metadata": {},
   "outputs": [],
   "source": [
    "#dictList = [momentumDict.df,stochasticDict.df,williamsDict.df,procDict.df,wadlDict.df,adoscDict.df,macdDict.df,cciDict.df,bollingerDict.df,heikenashiDict.df,\n",
    "#           paverageDict.df,slopeDict.df,fourierDict.df,sineDict.df,garchDict.df,atrDict.df]"
   ]
  },
  {
   "cell_type": "code",
   "execution_count": 25,
   "metadata": {},
   "outputs": [],
   "source": [
    "#colFeat = ['momentum','stochastic','williams','proc','wadl','adosc','macd','cci','bollinger','heikenashi','paverage','slope','fourier','sine','garch','atr']"
   ]
  },
  {
   "cell_type": "code",
   "execution_count": 26,
   "metadata": {},
   "outputs": [],
   "source": [
    "prices.dropna(inplace=True)\n",
    "masterFrame = pd.DataFrame(index=prices.index)\n",
    "masterFrame[['fulldate','year','month','day','open','high','low','close','volume']] = prices[['fulldate','year','month','day','open','high','low','close','volume']]\n",
    "masterFrame['weekday'] = prices.fulldate.apply(lambda x: x.isoweekday())\n",
    "masterFrame = pd.get_dummies(masterFrame, prefix='month_', columns=['month'])    \n",
    "masterFrame = pd.get_dummies(masterFrame, prefix='day_', columns=['day'])    \n",
    "masterFrame = pd.get_dummies(masterFrame, prefix='weekday_', columns=['weekday'])    "
   ]
  },
  {
   "cell_type": "code",
   "execution_count": 27,
   "metadata": {},
   "outputs": [],
   "source": [
    "for i in range(0,len(dictList)):#iteracja po funkcjach\n",
    "    for j in keyList[i]: #iteracja po okresach\n",
    "        for k in list(dictList[i][j]): #iteracja po kolumnach danej funkcji w okresie\n",
    "            colID = colFeat[i] + str(j) + k\n",
    "            masterFrame[colID] = dictList[i][j][k]"
   ]
  },
  {
   "cell_type": "code",
   "execution_count": 28,
   "metadata": {},
   "outputs": [],
   "source": [
    "masterFrame.to_csv(sep=';',path_or_buf='../Data/mf_UJ1440_v10_t3.csv',date_format=\"%Y-%m-%d\",index = False,na_rep='')"
   ]
  },
  {
   "cell_type": "code",
   "execution_count": 76,
   "metadata": {},
   "outputs": [
    {
     "data": {
      "text/html": [
       "<div>\n",
       "<style scoped>\n",
       "    .dataframe tbody tr th:only-of-type {\n",
       "        vertical-align: middle;\n",
       "    }\n",
       "\n",
       "    .dataframe tbody tr th {\n",
       "        vertical-align: top;\n",
       "    }\n",
       "\n",
       "    .dataframe thead th {\n",
       "        text-align: right;\n",
       "    }\n",
       "</style>\n",
       "<table border=\"1\" class=\"dataframe\">\n",
       "  <thead>\n",
       "    <tr style=\"text-align: right;\">\n",
       "      <th></th>\n",
       "      <th>a0</th>\n",
       "      <th>a1</th>\n",
       "      <th>b1</th>\n",
       "      <th>w</th>\n",
       "    </tr>\n",
       "    <tr>\n",
       "      <th>date</th>\n",
       "      <th></th>\n",
       "      <th></th>\n",
       "      <th></th>\n",
       "      <th></th>\n",
       "    </tr>\n",
       "  </thead>\n",
       "  <tbody>\n",
       "    <tr>\n",
       "      <th>4161</th>\n",
       "      <td>-16.460197</td>\n",
       "      <td>15.627513</td>\n",
       "      <td>5.543930</td>\n",
       "      <td>0.056354</td>\n",
       "    </tr>\n",
       "    <tr>\n",
       "      <th>4162</th>\n",
       "      <td>NaN</td>\n",
       "      <td>NaN</td>\n",
       "      <td>NaN</td>\n",
       "      <td>NaN</td>\n",
       "    </tr>\n",
       "    <tr>\n",
       "      <th>4163</th>\n",
       "      <td>-0.205190</td>\n",
       "      <td>-0.122358</td>\n",
       "      <td>0.032852</td>\n",
       "      <td>0.946324</td>\n",
       "    </tr>\n",
       "    <tr>\n",
       "      <th>4164</th>\n",
       "      <td>0.303005</td>\n",
       "      <td>-0.044109</td>\n",
       "      <td>0.059009</td>\n",
       "      <td>1.186959</td>\n",
       "    </tr>\n",
       "    <tr>\n",
       "      <th>4165</th>\n",
       "      <td>0.138920</td>\n",
       "      <td>-0.008460</td>\n",
       "      <td>0.107865</td>\n",
       "      <td>1.260958</td>\n",
       "    </tr>\n",
       "  </tbody>\n",
       "</table>\n",
       "</div>"
      ],
      "text/plain": [
       "             a0         a1        b1         w\n",
       "date                                          \n",
       "4161 -16.460197  15.627513  5.543930  0.056354\n",
       "4162        NaN        NaN       NaN       NaN\n",
       "4163  -0.205190  -0.122358  0.032852  0.946324\n",
       "4164   0.303005  -0.044109  0.059009  1.186959\n",
       "4165   0.138920  -0.008460  0.107865  1.260958"
      ]
     },
     "execution_count": 76,
     "metadata": {},
     "output_type": "execute_result"
    }
   ],
   "source": [
    "fourierDict.df[10].tail()"
   ]
  },
  {
   "cell_type": "code",
   "execution_count": null,
   "metadata": {},
   "outputs": [],
   "source": []
  }
 ],
 "metadata": {
  "kernelspec": {
   "display_name": "Python 3",
   "language": "python",
   "name": "python3"
  },
  "language_info": {
   "codemirror_mode": {
    "name": "ipython",
    "version": 3
   },
   "file_extension": ".py",
   "mimetype": "text/x-python",
   "name": "python",
   "nbconvert_exporter": "python",
   "pygments_lexer": "ipython3",
   "version": "3.7.3"
  }
 },
 "nbformat": 4,
 "nbformat_minor": 2
}
