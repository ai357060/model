{
 "cells": [
  {
   "cell_type": "code",
   "execution_count": 49,
   "metadata": {},
   "outputs": [],
   "source": [
    "import os\n",
    "import sys\n",
    "module_path = os.path.abspath(os.path.join('..'))\n",
    "if module_path not in sys.path:\n",
    "    sys.path.append(module_path)"
   ]
  },
  {
   "cell_type": "code",
   "execution_count": 50,
   "metadata": {},
   "outputs": [],
   "source": [
    "import pandas as pd\n",
    "import numpy as np\n",
    "import datetime as dt\n",
    "import importlib\n",
    "import feature_functions\n",
    "from feature_functions import *"
   ]
  },
  {
   "cell_type": "code",
   "execution_count": 51,
   "metadata": {},
   "outputs": [],
   "source": [
    "importlib.reload(feature_functions)\n",
    "from feature_functions import *"
   ]
  },
  {
   "cell_type": "code",
   "execution_count": 52,
   "metadata": {},
   "outputs": [],
   "source": [
    "prices = loaddata_nodateindex('UJ_Candlestick_1_D_BID_04.05.2003-25.04.2019.csv')\n",
    "# prices = loaddata_nodateindex('input.csv')#testowo"
   ]
  },
  {
   "cell_type": "code",
   "execution_count": 53,
   "metadata": {},
   "outputs": [],
   "source": [
    "#prices = loaddata('USDJPY1440.csv')"
   ]
  },
  {
   "cell_type": "code",
   "execution_count": 54,
   "metadata": {},
   "outputs": [],
   "source": [
    "# prices = prices[-24:]"
   ]
  },
  {
   "cell_type": "code",
   "execution_count": 55,
   "metadata": {},
   "outputs": [],
   "source": [
    "# prices = prices[:300]"
   ]
  },
  {
   "cell_type": "code",
   "execution_count": 56,
   "metadata": {},
   "outputs": [],
   "source": [
    "momentumKey   = [3,4,5,8,9,10] #price bias: close, open; 'open','close','open_pct','close_pct'\n",
    "stochasticKey = [3,4,5,8,9,10] # 'C','H','L','K','D','HistKD'; K_slopes,HistKD_slope\n",
    "williamsKey   = [6,7,8,9,10] # 'C','H','L','R'\n",
    "procKey       = [2,12,13,14,15] #'close_pct'\n",
    "wadlKey       = [2,15]  #w oryginale definicji funkcji jest 2; czyli bierze pod uwagę tylko poprzeni bar, \n",
    "                        #według dokumentu podali 15                        #price bias: wad   \n",
    "                        # 'wad', 'wad_slopes'\n",
    "adoscKey      = [1,2,3,4,5] #'C','H','L','ADL','ADL3','ADL10','Chaikin', ADL_slopy,Chaikin_slopy\n",
    "macdKey       = [15] #price bias: MACD, SigMACD, histMACD; MACD_slopy,histMACD_slopy\n",
    "cciKey        = [15] #'tp','tpmean','tpstd','cci', cci_slopy\n",
    "bollingerKey  = [15] #price bias: mid, upper, lower ,histmid,histupper,histlower,slopy:histmid,histupper,histlower\n",
    "heikenashiKey = [2,15] #price bias: HAopen, HAhigh, HAlow, HAclose; 4 slopy \n",
    "paverageKey   = [2] #price bias: avg_open,avg_high, avg_low, avg_close; avg_close_slopy\n",
    "slopeKey      = [3,4,5,10,20,30] # slopy na close, high, low\n",
    "fourierKey    = [10,20,30]\n",
    "sineKey       = [5,6]\n",
    "garchKey      = [15,50,150]\n",
    "atrKey        = [14]\n",
    "histD1Key     = [30]\n",
    "histW1Key     = [30]\n",
    "histM1Key     = [30]\n",
    "\n",
    "#keyList = [momentumKey,stochasticKey,williamsKey,procKey,wadlKey,adoscKey,macdKey,cciKey,bollingerKey,heikenashiKey,\n",
    "#           paverageKey,slopeKey,fourierKey,sineKey,garchKey,atrKey]\n",
    "dictList = []\n",
    "colFeat = []\n",
    "keyList = []\n",
    "debug = True"
   ]
  },
  {
   "cell_type": "code",
   "execution_count": 57,
   "metadata": {},
   "outputs": [
    {
     "name": "stdout",
     "output_type": "stream",
     "text": [
      "1\n",
      "2\n",
      "3\n",
      "4\n",
      "5\n",
      "6\n",
      "7\n",
      "8\n",
      "9\n",
      "11\n",
      "12\n",
      "13\n",
      "14\n",
      "15\n"
     ]
    },
    {
     "name": "stderr",
     "output_type": "stream",
     "text": [
      "C:\\Anaconda3\\lib\\site-packages\\arch\\univariate\\base.py:605: ConvergenceWarning: The optimizer returned code 8. The message is:\n",
      "Positive directional derivative for linesearch\n",
      "See scipy.optimize.fmin_slsqp for code meaning.\n",
      "\n",
      "  ConvergenceWarning)\n",
      "C:\\Anaconda3\\lib\\site-packages\\arch\\univariate\\base.py:605: ConvergenceWarning: The optimizer returned code 8. The message is:\n",
      "Positive directional derivative for linesearch\n",
      "See scipy.optimize.fmin_slsqp for code meaning.\n",
      "\n",
      "  ConvergenceWarning)\n",
      "C:\\Anaconda3\\lib\\site-packages\\arch\\univariate\\base.py:605: ConvergenceWarning: The optimizer returned code 8. The message is:\n",
      "Positive directional derivative for linesearch\n",
      "See scipy.optimize.fmin_slsqp for code meaning.\n",
      "\n",
      "  ConvergenceWarning)\n",
      "C:\\Anaconda3\\lib\\site-packages\\arch\\univariate\\base.py:605: ConvergenceWarning: The optimizer returned code 8. The message is:\n",
      "Positive directional derivative for linesearch\n",
      "See scipy.optimize.fmin_slsqp for code meaning.\n",
      "\n",
      "  ConvergenceWarning)\n",
      "C:\\Anaconda3\\lib\\site-packages\\arch\\univariate\\base.py:605: ConvergenceWarning: The optimizer returned code 8. The message is:\n",
      "Positive directional derivative for linesearch\n",
      "See scipy.optimize.fmin_slsqp for code meaning.\n",
      "\n",
      "  ConvergenceWarning)\n",
      "C:\\Anaconda3\\lib\\site-packages\\arch\\univariate\\base.py:605: ConvergenceWarning: The optimizer returned code 8. The message is:\n",
      "Positive directional derivative for linesearch\n",
      "See scipy.optimize.fmin_slsqp for code meaning.\n",
      "\n",
      "  ConvergenceWarning)\n",
      "C:\\Anaconda3\\lib\\site-packages\\arch\\univariate\\base.py:605: ConvergenceWarning: The optimizer returned code 8. The message is:\n",
      "Positive directional derivative for linesearch\n",
      "See scipy.optimize.fmin_slsqp for code meaning.\n",
      "\n",
      "  ConvergenceWarning)\n",
      "C:\\Anaconda3\\lib\\site-packages\\arch\\univariate\\base.py:605: ConvergenceWarning: The optimizer returned code 8. The message is:\n",
      "Positive directional derivative for linesearch\n",
      "See scipy.optimize.fmin_slsqp for code meaning.\n",
      "\n",
      "  ConvergenceWarning)\n",
      "C:\\Anaconda3\\lib\\site-packages\\arch\\univariate\\base.py:605: ConvergenceWarning: The optimizer returned code 8. The message is:\n",
      "Positive directional derivative for linesearch\n",
      "See scipy.optimize.fmin_slsqp for code meaning.\n",
      "\n",
      "  ConvergenceWarning)\n",
      "C:\\Anaconda3\\lib\\site-packages\\arch\\univariate\\base.py:605: ConvergenceWarning: The optimizer returned code 8. The message is:\n",
      "Positive directional derivative for linesearch\n",
      "See scipy.optimize.fmin_slsqp for code meaning.\n",
      "\n",
      "  ConvergenceWarning)\n",
      "C:\\Anaconda3\\lib\\site-packages\\arch\\univariate\\base.py:605: ConvergenceWarning: The optimizer returned code 8. The message is:\n",
      "Positive directional derivative for linesearch\n",
      "See scipy.optimize.fmin_slsqp for code meaning.\n",
      "\n",
      "  ConvergenceWarning)\n",
      "C:\\Anaconda3\\lib\\site-packages\\arch\\univariate\\base.py:605: ConvergenceWarning: The optimizer returned code 8. The message is:\n",
      "Positive directional derivative for linesearch\n",
      "See scipy.optimize.fmin_slsqp for code meaning.\n",
      "\n",
      "  ConvergenceWarning)\n",
      "C:\\Anaconda3\\lib\\site-packages\\arch\\univariate\\base.py:605: ConvergenceWarning: The optimizer returned code 8. The message is:\n",
      "Positive directional derivative for linesearch\n",
      "See scipy.optimize.fmin_slsqp for code meaning.\n",
      "\n",
      "  ConvergenceWarning)\n",
      "C:\\Anaconda3\\lib\\site-packages\\arch\\univariate\\base.py:605: ConvergenceWarning: The optimizer returned code 8. The message is:\n",
      "Positive directional derivative for linesearch\n",
      "See scipy.optimize.fmin_slsqp for code meaning.\n",
      "\n",
      "  ConvergenceWarning)\n",
      "C:\\Anaconda3\\lib\\site-packages\\arch\\univariate\\base.py:605: ConvergenceWarning: The optimizer returned code 8. The message is:\n",
      "Positive directional derivative for linesearch\n",
      "See scipy.optimize.fmin_slsqp for code meaning.\n",
      "\n",
      "  ConvergenceWarning)\n",
      "C:\\Anaconda3\\lib\\site-packages\\arch\\univariate\\base.py:605: ConvergenceWarning: The optimizer returned code 8. The message is:\n",
      "Positive directional derivative for linesearch\n",
      "See scipy.optimize.fmin_slsqp for code meaning.\n",
      "\n",
      "  ConvergenceWarning)\n",
      "C:\\Anaconda3\\lib\\site-packages\\arch\\univariate\\base.py:605: ConvergenceWarning: The optimizer returned code 8. The message is:\n",
      "Positive directional derivative for linesearch\n",
      "See scipy.optimize.fmin_slsqp for code meaning.\n",
      "\n",
      "  ConvergenceWarning)\n",
      "C:\\Anaconda3\\lib\\site-packages\\arch\\univariate\\base.py:605: ConvergenceWarning: The optimizer returned code 8. The message is:\n",
      "Positive directional derivative for linesearch\n",
      "See scipy.optimize.fmin_slsqp for code meaning.\n",
      "\n",
      "  ConvergenceWarning)\n",
      "C:\\Anaconda3\\lib\\site-packages\\arch\\univariate\\base.py:605: ConvergenceWarning: The optimizer returned code 8. The message is:\n",
      "Positive directional derivative for linesearch\n",
      "See scipy.optimize.fmin_slsqp for code meaning.\n",
      "\n",
      "  ConvergenceWarning)\n",
      "C:\\Anaconda3\\lib\\site-packages\\arch\\univariate\\base.py:605: ConvergenceWarning: The optimizer returned code 8. The message is:\n",
      "Positive directional derivative for linesearch\n",
      "See scipy.optimize.fmin_slsqp for code meaning.\n",
      "\n",
      "  ConvergenceWarning)\n",
      "C:\\Anaconda3\\lib\\site-packages\\arch\\univariate\\base.py:605: ConvergenceWarning: The optimizer returned code 8. The message is:\n",
      "Positive directional derivative for linesearch\n",
      "See scipy.optimize.fmin_slsqp for code meaning.\n",
      "\n",
      "  ConvergenceWarning)\n",
      "C:\\Anaconda3\\lib\\site-packages\\arch\\univariate\\base.py:605: ConvergenceWarning: The optimizer returned code 8. The message is:\n",
      "Positive directional derivative for linesearch\n",
      "See scipy.optimize.fmin_slsqp for code meaning.\n",
      "\n",
      "  ConvergenceWarning)\n",
      "C:\\Anaconda3\\lib\\site-packages\\arch\\univariate\\base.py:605: ConvergenceWarning: The optimizer returned code 8. The message is:\n",
      "Positive directional derivative for linesearch\n",
      "See scipy.optimize.fmin_slsqp for code meaning.\n",
      "\n",
      "  ConvergenceWarning)\n",
      "C:\\Anaconda3\\lib\\site-packages\\arch\\univariate\\base.py:605: ConvergenceWarning: The optimizer returned code 8. The message is:\n",
      "Positive directional derivative for linesearch\n",
      "See scipy.optimize.fmin_slsqp for code meaning.\n",
      "\n",
      "  ConvergenceWarning)\n",
      "C:\\Anaconda3\\lib\\site-packages\\arch\\univariate\\base.py:605: ConvergenceWarning: The optimizer returned code 8. The message is:\n",
      "Positive directional derivative for linesearch\n",
      "See scipy.optimize.fmin_slsqp for code meaning.\n",
      "\n",
      "  ConvergenceWarning)\n",
      "C:\\Anaconda3\\lib\\site-packages\\arch\\univariate\\base.py:605: ConvergenceWarning: The optimizer returned code 8. The message is:\n",
      "Positive directional derivative for linesearch\n",
      "See scipy.optimize.fmin_slsqp for code meaning.\n",
      "\n",
      "  ConvergenceWarning)\n",
      "C:\\Anaconda3\\lib\\site-packages\\arch\\univariate\\base.py:605: ConvergenceWarning: The optimizer returned code 8. The message is:\n",
      "Positive directional derivative for linesearch\n",
      "See scipy.optimize.fmin_slsqp for code meaning.\n",
      "\n",
      "  ConvergenceWarning)\n",
      "C:\\Anaconda3\\lib\\site-packages\\arch\\univariate\\base.py:605: ConvergenceWarning: The optimizer returned code 8. The message is:\n",
      "Positive directional derivative for linesearch\n",
      "See scipy.optimize.fmin_slsqp for code meaning.\n",
      "\n",
      "  ConvergenceWarning)\n",
      "C:\\Anaconda3\\lib\\site-packages\\arch\\univariate\\base.py:605: ConvergenceWarning: The optimizer returned code 8. The message is:\n",
      "Positive directional derivative for linesearch\n",
      "See scipy.optimize.fmin_slsqp for code meaning.\n",
      "\n",
      "  ConvergenceWarning)\n",
      "C:\\Anaconda3\\lib\\site-packages\\arch\\univariate\\base.py:605: ConvergenceWarning: The optimizer returned code 8. The message is:\n",
      "Positive directional derivative for linesearch\n",
      "See scipy.optimize.fmin_slsqp for code meaning.\n",
      "\n",
      "  ConvergenceWarning)\n"
     ]
    },
    {
     "name": "stdout",
     "output_type": "stream",
     "text": [
      "16\n",
      "17\n",
      "18\n",
      "19\n",
      "20\n"
     ]
    }
   ],
   "source": [
    "momentumDict   = momentum(prices, momentumKey)\n",
    "if debug == True: print('1')\n",
    "stochasticDict = stochastic(prices, stochasticKey)\n",
    "if debug == True: print('2')\n",
    "williamsDict   = williams(prices, williamsKey)\n",
    "if debug == True: print('3')\n",
    "procDict       = proc(prices, procKey)\n",
    "if debug == True: print('4')\n",
    "wadlDict       = wadl(prices, wadlKey)\n",
    "if debug == True: print('5')\n",
    "adoscDict      = adosc(prices, adoscKey)\n",
    "if debug == True: print('6')\n",
    "macdDict       = macd(prices, macdKey+[30,9])\n",
    "if debug == True: print('7')\n",
    "cciDict        = cci(prices, cciKey)\n",
    "if debug == True: print('8')\n",
    "bollingerDict  = bollinger(prices, bollingerKey)\n",
    "if debug == True: print('9')\n",
    "heikenashiDict = heikenashi(prices, heikenashiKey)\n",
    "if debug == True: print('11')\n",
    "paverageDict   = paverages(prices, paverageKey)\n",
    "if debug == True: print('12')\n",
    "slopeDict      = slopes(prices, slopeKey)\n",
    "if debug == True: print('13')\n",
    "fourierDict    = fourier(prices, fourierKey)\n",
    "if debug == True: print('14')\n",
    "sineDict       = sine(prices, sineKey)\n",
    "if debug == True: print('15')   \n",
    "garchDict      = TSA(prices, garchKey,[3,1,0])\n",
    "if debug == True: print('16')\n",
    "atrDict        = atr(prices, atrKey)\n",
    "if debug == True: print('17')    \n",
    "histD1Dict     = historyD1(prices, histD1Key)\n",
    "if debug == True: print('18')    \n",
    "histW1Dict     = historyW1(prices, histW1Key)\n",
    "if debug == True: print('19')\n",
    "histM1Dict     = historyM1(prices, histM1Key)\n",
    "if debug == True: print('20')    "
   ]
  },
  {
   "cell_type": "code",
   "execution_count": 58,
   "metadata": {},
   "outputs": [],
   "source": [
    "# importlib.reload(feature_functions)\n",
    "# from feature_functions import *\n",
    "\n",
    "# fourierDict    = fourier(prices, fourierKey)\n",
    "# sineDict       = sine(prices, sineKey)\n"
   ]
  },
  {
   "cell_type": "code",
   "execution_count": 59,
   "metadata": {},
   "outputs": [],
   "source": [
    "dictList = []\n",
    "colFeat = []\n",
    "keyList = []\n",
    "dictList.append(momentumDict.df); colFeat.append('momentum'); keyList.append(momentumKey)\n",
    "dictList.append(stochasticDict.df); colFeat.append('stochastic'); keyList.append(stochasticKey)\n",
    "dictList.append(williamsDict.df); colFeat.append('williams'); keyList.append(williamsKey)\n",
    "dictList.append(procDict.df); colFeat.append('proc'); keyList.append(procKey)\n",
    "dictList.append(wadlDict.df); colFeat.append('wadl'); keyList.append(wadlKey)\n",
    "dictList.append(adoscDict.df); colFeat.append('adosc'); keyList.append(adoscKey)\n",
    "dictList.append(macdDict.df); colFeat.append('macd'); keyList.append(macdKey)\n",
    "dictList.append(cciDict.df); colFeat.append('cci'); keyList.append(cciKey)\n",
    "dictList.append(bollingerDict.df); colFeat.append('bollinger'); keyList.append(bollingerKey)\n",
    "dictList.append(heikenashiDict.df); colFeat.append('heikenashi'); keyList.append(heikenashiKey)\n",
    "dictList.append(paverageDict.df); colFeat.append('paverage'); keyList.append(paverageKey)\n",
    "dictList.append(slopeDict.df); colFeat.append('slope'); keyList.append(slopeKey)\n",
    "dictList.append(fourierDict.df); colFeat.append('fourier'); keyList.append(fourierKey)\n",
    "dictList.append(sineDict.df); colFeat.append('sine'); keyList.append(sineKey)\n",
    "dictList.append(garchDict.df); colFeat.append('garch'); keyList.append(garchKey)\n",
    "dictList.append(atrDict.df); colFeat.append('atr'); keyList.append(atrKey)\n",
    "dictList.append(histD1Dict.df); colFeat.append('hD1'); keyList.append(histD1Key)\n",
    "dictList.append(histW1Dict.df); colFeat.append('hW1'); keyList.append(histW1Key)\n",
    "dictList.append(histM1Dict.df); colFeat.append('hM1'); keyList.append(histM1Key)"
   ]
  },
  {
   "cell_type": "code",
   "execution_count": 60,
   "metadata": {},
   "outputs": [],
   "source": [
    "#dictList = [momentumDict.df,stochasticDict.df,williamsDict.df,procDict.df,wadlDict.df,adoscDict.df,macdDict.df,cciDict.df,bollingerDict.df,heikenashiDict.df,\n",
    "#           paverageDict.df,slopeDict.df,fourierDict.df,sineDict.df,garchDict.df,atrDict.df]"
   ]
  },
  {
   "cell_type": "code",
   "execution_count": 61,
   "metadata": {},
   "outputs": [],
   "source": [
    "#colFeat = ['momentum','stochastic','williams','proc','wadl','adosc','macd','cci','bollinger','heikenashi','paverage','slope','fourier','sine','garch','atr']"
   ]
  },
  {
   "cell_type": "code",
   "execution_count": 62,
   "metadata": {},
   "outputs": [],
   "source": [
    "prices.dropna(inplace=True)\n",
    "masterFrame = pd.DataFrame(index=prices.index)\n",
    "masterFrame[['fulldate','year','month','day','open','high','low','close','volume']] = prices[['fulldate','year','month','day','open','high','low','close','volume']]\n",
    "masterFrame['weekday'] = prices.fulldate.apply(lambda x: x.isoweekday())\n",
    "masterFrame = pd.get_dummies(masterFrame, prefix='month_', columns=['month'])    \n",
    "masterFrame = pd.get_dummies(masterFrame, prefix='day_', columns=['day'])    \n",
    "masterFrame = pd.get_dummies(masterFrame, prefix='weekday_', columns=['weekday'])    "
   ]
  },
  {
   "cell_type": "code",
   "execution_count": 63,
   "metadata": {},
   "outputs": [],
   "source": [
    "for i in range(0,len(dictList)):#iteracja po funkcjach\n",
    "    for j in keyList[i]: #iteracja po okresach\n",
    "        for k in list(dictList[i][j]): #iteracja po kolumnach danej funkcji w okresie\n",
    "            colID = colFeat[i] + str(j) + k\n",
    "            masterFrame[colID] = dictList[i][j][k]"
   ]
  },
  {
   "cell_type": "code",
   "execution_count": 64,
   "metadata": {},
   "outputs": [],
   "source": [
    "masterFrame.to_csv(sep=';',path_or_buf='../Data/mf_UJ1440_v13.csv',date_format=\"%Y-%m-%d\",index = False,na_rep='')"
   ]
  },
  {
   "cell_type": "code",
   "execution_count": 65,
   "metadata": {},
   "outputs": [
    {
     "data": {
      "text/html": [
       "<div>\n",
       "<style scoped>\n",
       "    .dataframe tbody tr th:only-of-type {\n",
       "        vertical-align: middle;\n",
       "    }\n",
       "\n",
       "    .dataframe tbody tr th {\n",
       "        vertical-align: top;\n",
       "    }\n",
       "\n",
       "    .dataframe thead th {\n",
       "        text-align: right;\n",
       "    }\n",
       "</style>\n",
       "<table border=\"1\" class=\"dataframe\">\n",
       "  <thead>\n",
       "    <tr style=\"text-align: right;\">\n",
       "      <th></th>\n",
       "      <th>a0</th>\n",
       "      <th>a1</th>\n",
       "      <th>b1</th>\n",
       "      <th>w</th>\n",
       "    </tr>\n",
       "    <tr>\n",
       "      <th>date</th>\n",
       "      <th></th>\n",
       "      <th></th>\n",
       "      <th></th>\n",
       "      <th></th>\n",
       "    </tr>\n",
       "  </thead>\n",
       "  <tbody>\n",
       "    <tr>\n",
       "      <th>5831</th>\n",
       "      <td>-16.258524</td>\n",
       "      <td>15.329990</td>\n",
       "      <td>5.810956</td>\n",
       "      <td>0.059906</td>\n",
       "    </tr>\n",
       "    <tr>\n",
       "      <th>5832</th>\n",
       "      <td>NaN</td>\n",
       "      <td>NaN</td>\n",
       "      <td>NaN</td>\n",
       "      <td>NaN</td>\n",
       "    </tr>\n",
       "    <tr>\n",
       "      <th>5833</th>\n",
       "      <td>-0.229880</td>\n",
       "      <td>-0.136945</td>\n",
       "      <td>0.036774</td>\n",
       "      <td>0.946353</td>\n",
       "    </tr>\n",
       "    <tr>\n",
       "      <th>5834</th>\n",
       "      <td>0.338756</td>\n",
       "      <td>-0.049383</td>\n",
       "      <td>0.066013</td>\n",
       "      <td>1.186790</td>\n",
       "    </tr>\n",
       "    <tr>\n",
       "      <th>5835</th>\n",
       "      <td>0.369397</td>\n",
       "      <td>0.006404</td>\n",
       "      <td>0.168396</td>\n",
       "      <td>1.228419</td>\n",
       "    </tr>\n",
       "  </tbody>\n",
       "</table>\n",
       "</div>"
      ],
      "text/plain": [
       "             a0         a1        b1         w\n",
       "date                                          \n",
       "5831 -16.258524  15.329990  5.810956  0.059906\n",
       "5832        NaN        NaN       NaN       NaN\n",
       "5833  -0.229880  -0.136945  0.036774  0.946353\n",
       "5834   0.338756  -0.049383  0.066013  1.186790\n",
       "5835   0.369397   0.006404  0.168396  1.228419"
      ]
     },
     "execution_count": 65,
     "metadata": {},
     "output_type": "execute_result"
    }
   ],
   "source": [
    "fourierDict.df[10].tail()"
   ]
  },
  {
   "cell_type": "code",
   "execution_count": 66,
   "metadata": {},
   "outputs": [
    {
     "data": {
      "text/plain": [
       "'09/05/2020 17:33:49'"
      ]
     },
     "execution_count": 66,
     "metadata": {},
     "output_type": "execute_result"
    }
   ],
   "source": [
    "from datetime import date\n",
    "datetime.now().strftime(\"%d/%m/%Y %H:%M:%S\")"
   ]
  },
  {
   "cell_type": "code",
   "execution_count": null,
   "metadata": {},
   "outputs": [],
   "source": []
  }
 ],
 "metadata": {
  "kernelspec": {
   "display_name": "Python 3",
   "language": "python",
   "name": "python3"
  },
  "language_info": {
   "codemirror_mode": {
    "name": "ipython",
    "version": 3
   },
   "file_extension": ".py",
   "mimetype": "text/x-python",
   "name": "python",
   "nbconvert_exporter": "python",
   "pygments_lexer": "ipython3",
   "version": "3.7.3"
  }
 },
 "nbformat": 4,
 "nbformat_minor": 2
}
